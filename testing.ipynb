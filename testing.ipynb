{
 "cells": [
  {
   "cell_type": "markdown",
   "metadata": {},
   "source": [
    "#### This notebook is for testing the implemented functions of the nav-graph project\n",
    "### Import packages"
   ]
  },
  {
   "cell_type": "code",
   "execution_count": 1,
   "metadata": {},
   "outputs": [],
   "source": [
    "from selenium import webdriver\n",
    "from selenium.webdriver.chrome.options import Options\n",
    "from selenium.webdriver.common.by import By\n",
    "from selenium.webdriver.remote.webelement import WebElement\n",
    "import chromedriver_binary\n",
    "import time\n",
    "import os\n",
    "import sys\n",
    "#sys.path.append(\"./crawling\")\n",
    "# sys.path.append(os.path.join(os.getcwd(), \"test_generator\"))\n",
    "from petrinet.PetriNet import *\n",
    "from xpath_locators.absolute import get_absolute_xpath\n",
    "from xpath_locators.RobulaPlus import RobulaPlus\n",
    "from xpath_locators.XPath import XPath\n",
    "from xpath_locators.NeighborXPath import NeighborXPathGenerator\n",
    "from petrinet import PetriNetConverter as pnc\n",
    "from petrinet.PetriNetConverter import parse_obj_repo_path, make_trans_from_step_info\n",
    "import random\n",
    "from element.Element import AnchorLinkElement\n",
    "\n",
    "from test_generator.StateGraph.TestStep import TestStep\n",
    "from petrinet.traversal_utils import select_path, create_trajectory\n",
    "\n",
    "import copy"
   ]
  },
  {
   "cell_type": "code",
   "execution_count": 2,
   "metadata": {},
   "outputs": [],
   "source": [
    "pnc.SCRIPT_INPUT_DIR = \"test_generator/GroovyParser/Data\"\n",
    "pnc.SCRIPT_OUTPUT_DIR = \"test_generator/GroovyParser/Output\"\n",
    "pnc.GROOVY_PARSER_DIR = \"test_generator/GroovyParser\"\n",
    "# proj = \"C:/Users/kiet.ngo/Downloads/Projects/nav-graph/KatalonStudio_sample_project/J2Store\"\n",
    "proj = \"/Users/luong.nguyen/Katalon Studio/Test\""
   ]
  },
  {
   "cell_type": "code",
   "execution_count": 4,
   "metadata": {},
   "outputs": [],
   "source": [
    "def print_petrinet_nodes(petrinet: PetriNet):\n",
    "    print(\"node [shape=oval color=red]\")\n",
    "    print(*petrinet.place(), *petrinet.page(), sep=\",\\n\")\n",
    "    print()\n",
    "    print(\"node [shape=box color=blue]\")\n",
    "    print(*petrinet.transition(), sep=\",\\n\")\n",
    "    print()\n",
    "    \n",
    "def print_petrinet_arcs(petrinet: PetriNet):\n",
    "    for root in petrinet.root:\n",
    "        print(f\"start -> {root}\")\n",
    "    for node in petrinet.node():\n",
    "        for arc in node.output_arc():\n",
    "            print(f\"{arc}\")\n",
    "            \n",
    "def print_graphviz(petrinet: PetriNet):\n",
    "    print(\"digraph G {\")\n",
    "    print_petrinet_nodes(petrinet)\n",
    "    print_petrinet_arcs(petrinet)\n",
    "    print(\"}\")"
   ]
  },
  {
   "cell_type": "markdown",
   "metadata": {},
   "source": [
    "##### Parse Katalon Studio test scripts into code-based Petri-net"
   ]
  },
  {
   "cell_type": "code",
   "execution_count": 4,
   "metadata": {},
   "outputs": [
    {
     "name": "stderr",
     "output_type": "stream",
     "text": [
      "2023-01-04 16:29:50.928 | INFO     | petrinet.PetriNetConverter:fetch_script_paths:95 - Path of test case /Users/luong.nguyen/Katalon Studio/Test/Scripts/test 1 & ['Script1672737920958.groovy']\n",
      "2023-01-04 16:29:50.930 | INFO     | petrinet.PetriNetConverter:prepare_test_script_input:110 - scripts dict: {'test 1': ['Script1672737920958']}\n"
     ]
    },
    {
     "name": "stdout",
     "output_type": "stream",
     "text": [
      "Successfully called the Groovy Parser on input test scripts!\n",
      "Merge conditions for place: action+assertion\n"
     ]
    }
   ],
   "source": [
    "net, scripts = pnc.construct_code_based_petrinet(proj)"
   ]
  },
  {
   "cell_type": "code",
   "execution_count": null,
   "metadata": {},
   "outputs": [],
   "source": [
    "scripts"
   ]
  },
  {
   "cell_type": "code",
   "execution_count": null,
   "metadata": {},
   "outputs": [],
   "source": [
    "temp: Transition = net.net.transition()[2]\n",
    "t: TestStep = temp.step_info"
   ]
  },
  {
   "cell_type": "code",
   "execution_count": null,
   "metadata": {},
   "outputs": [],
   "source": [
    "t.__dict__"
   ]
  },
  {
   "cell_type": "code",
   "execution_count": null,
   "metadata": {},
   "outputs": [],
   "source": [
    "from loguru import logger\n",
    "\n",
    "logger.add(sink= 'test.log',backtrace=True, diagnose=True)\n",
    "\n",
    "for idx, tran in enumerate(net.net.transition()):\n",
    "    logger.debug(f\"{5*'*'} transistion name: {tran.name} {5*'*'}\")\n",
    "    logger.info(f\"tran idx = {idx}\")\n",
    "    step_info = tran.step_info\n",
    "    b = False\n",
    "    if len(step_info.input) > 1:\n",
    "        for t in step_info.input[1:]:\n",
    "            logger.info(f\"{t.__dict__}\")\n",
    "            try:\n",
    "                logger.info(t.value)\n",
    "            except:\n",
    "                b = True\n",
    "                logger.exception(\"Error\")\n",
    "                break\n",
    "    if b:\n",
    "        break\n",
    "    "
   ]
  },
  {
   "cell_type": "code",
   "execution_count": null,
   "metadata": {},
   "outputs": [],
   "source": [
    "tran: TestStep = list(net.net.transition())[9].step_info"
   ]
  },
  {
   "cell_type": "code",
   "execution_count": null,
   "metadata": {},
   "outputs": [],
   "source": [
    "print(tran.input[1].code)\n",
    "print(tran.input[0].code)\n",
    "print(tran.action)"
   ]
  },
  {
   "cell_type": "markdown",
   "metadata": {},
   "source": [
    "##### Convert code-based petri-net to action-based petri-net"
   ]
  },
  {
   "cell_type": "code",
   "execution_count": 5,
   "metadata": {},
   "outputs": [],
   "source": [
    "new_net = pnc.codeBased_to_actionBased(proj, net, scripts)\n",
    "PetriNet.save(new_net, \"petrinet.pkl\")"
   ]
  },
  {
   "cell_type": "code",
   "execution_count": null,
   "metadata": {},
   "outputs": [],
   "source": [
    "place: Place = list(new_net.place())[0]\n",
    "tran: ActionableTransition = list(place.output_arc())[0].destination"
   ]
  },
  {
   "cell_type": "code",
   "execution_count": null,
   "metadata": {},
   "outputs": [],
   "source": [
    "list(new_net.transition())[8].__dict__"
   ]
  },
  {
   "cell_type": "code",
   "execution_count": null,
   "metadata": {},
   "outputs": [],
   "source": [
    "list(new_net.transition())[7].__dict__"
   ]
  },
  {
   "cell_type": "code",
   "execution_count": null,
   "metadata": {},
   "outputs": [],
   "source": [
    "list(new_net.transition())[6].output_arc()"
   ]
  },
  {
   "cell_type": "code",
   "execution_count": null,
   "metadata": {},
   "outputs": [],
   "source": [
    "for place in new_net.place():\n",
    "    if len(place.output_arc()) > 1:\n",
    "        print(place)"
   ]
  },
  {
   "cell_type": "code",
   "execution_count": null,
   "metadata": {},
   "outputs": [],
   "source": [
    "list(new_net.place())[0].data['current_url']"
   ]
  },
  {
   "cell_type": "code",
   "execution_count": 13,
   "metadata": {},
   "outputs": [
    {
     "name": "stdout",
     "output_type": "stream",
     "text": [
      "1\n",
      "1\n",
      "1\n",
      "1\n",
      "1\n",
      "1\n",
      "1\n",
      "1\n",
      "1\n",
      "1\n",
      "1\n",
      "1\n"
     ]
    }
   ],
   "source": [
    "for place in new_net.place():\n",
    "    print(len(list(place.output_arc())))"
   ]
  },
  {
   "cell_type": "code",
   "execution_count": 11,
   "metadata": {},
   "outputs": [
    {
     "name": "stdout",
     "output_type": "stream",
     "text": [
      "\"T999741__setText__input__\"\n",
      "[\"T999741__setText__input__\" -> P601407]\n",
      "\"T731511__setEncryptedText__input__\"\n",
      "[\"T731511__setEncryptedText__input__\" -> P860877]\n",
      "\"T137457__click__button__Sign In\"\n",
      "[\"T137457__click__button__Sign In\" -> P198711]\n",
      "\"T926229__click__a__Admin Panel\"\n",
      "[\"T926229__click__a__Admin Panel\" -> P444039]\n",
      "\"T718419__setEncryptedText__input__L\"\n",
      "[\"T718419__setEncryptedText__input__L\" -> P675807]\n",
      "\"T545505__click__button__L\"\n",
      "[\"T545505__click__button__L\" -> P485991]\n",
      "\"T887931__setText__input__L\"\n",
      "[\"T887931__setText__input__L\" -> P897297, \"T887931__setText__input__L\" -> P748881]\n",
      "\"T146343__sendKeys__input__L\"\n",
      "[\"T146343__sendKeys__input__L\" -> P279303, \"T146343__sendKeys__input__L\" -> P898497]\n",
      "\"T806817__click__a__User Management\"\n",
      "[\"T806817__click__a__User Management\" -> P527415]\n",
      "\"T822663__closeBrowser\"\n",
      "[]\n"
     ]
    }
   ],
   "source": [
    "for tran in new_net.transition():\n",
    "    # for arc in list(tran.output_arc()):\n",
    "    #     print(arc.destination)\n",
    "    print(tran)\n",
    "    print(list(tran.output_arc()))"
   ]
  },
  {
   "cell_type": "code",
   "execution_count": null,
   "metadata": {},
   "outputs": [],
   "source": [
    "\"T999741__setText__input__\"\n",
    "[\"T999741__setText__input__\" -> P601407]\n",
    "\"T731511__setEncryptedText__input__\"\n",
    "[\"T731511__setEncryptedText__input__\" -> P860877]\n",
    "\"T137457__click__button__Sign In\"\n",
    "[\"T137457__click__button__Sign In\" -> P198711]\n",
    "\"T926229__click__a__Admin Panel\"\n",
    "[\"T926229__click__a__Admin Panel\" -> P444039]\n",
    "\"T718419__setEncryptedText__input__L\"\n",
    "[\"T718419__setEncryptedText__input__L\" -> P675807]\n",
    "\"T545505__click__button__L\"\n",
    "[\"T545505__click__button__L\" -> P485991]\n",
    "\"T887931__setText__input__L\"\n",
    "[\"T887931__setText__input__L\" -> P897297, \"T887931__setText__input__L\" -> P748881]\n",
    "\"T146343__sendKeys__input__L\"\n",
    "[\"T146343__sendKeys__input__L\" -> P279303, \"T146343__sendKeys__input__L\" -> P898497]\n",
    "\"T806817__click__a__User Management\"\n",
    "[\"T806817__click__a__User Management\" -> P527415]\n",
    "\"T822663__closeBrowser\"\n",
    "[]"
   ]
  },
  {
   "cell_type": "code",
   "execution_count": null,
   "metadata": {},
   "outputs": [],
   "source": [
    "P191955\n",
    "P191955 -> \"T999741__setText__input__\"\n",
    "P601407\n",
    "P601407 -> \"T731511__setEncryptedText__input__\"\n",
    "P860877\n",
    "P860877 -> \"T137457__click__button__Sign In\"\n",
    "P198711\n",
    "P198711 -> \"T926229__click__a__Admin Panel\"\n",
    "P444039\n",
    "P444039 -> \"T718419__setEncryptedText__input__L\"\n",
    "P675807\n",
    "P675807 -> \"T545505__click__button__L\"\n",
    "P485991\n",
    "P485991 -> \"T887931__setText__input__L\"\n",
    "P897297\n",
    "P897297 -> \"T146343__sendKeys__input__L\"\n",
    "P279303\n",
    "P279303 -> \"T806817__click__a__User Management\"\n",
    "P527415\n",
    "P527415 -> \"T887931__setText__input__L\"\n",
    "P748881\n",
    "P748881 -> \"T146343__sendKeys__input__L\"\n",
    "P898497\n",
    "P898497 -> \"T822663__closeBrowser\""
   ]
  },
  {
   "cell_type": "code",
   "execution_count": 13,
   "metadata": {},
   "outputs": [
    {
     "data": {
      "text/plain": [
       "\"T146343__sendKeys__input__L\""
      ]
     },
     "execution_count": 13,
     "metadata": {},
     "output_type": "execute_result"
    }
   ],
   "source": [
    "list(new_net.place('P897297').output_arc())[0].destination"
   ]
  },
  {
   "cell_type": "code",
   "execution_count": 12,
   "metadata": {},
   "outputs": [
    {
     "name": "stdout",
     "output_type": "stream",
     "text": [
      "P191955\n",
      "P191955 -> \"T999741__setText__input__\"\n",
      "P601407\n",
      "P601407 -> \"T731511__setEncryptedText__input__\"\n",
      "P860877\n",
      "P860877 -> \"T137457__click__button__Sign In\"\n",
      "P198711\n",
      "P198711 -> \"T926229__click__a__Admin Panel\"\n",
      "P444039\n",
      "P444039 -> \"T718419__setEncryptedText__input__L\"\n",
      "P675807\n",
      "P675807 -> \"T545505__click__button__L\"\n",
      "P485991\n",
      "P485991 -> \"T887931__setText__input__L\"\n",
      "P897297\n",
      "P897297 -> \"T146343__sendKeys__input__L\"\n",
      "P279303\n",
      "P279303 -> \"T806817__click__a__User Management\"\n",
      "P527415\n",
      "P527415 -> \"T887931__setText__input__L\"\n",
      "P748881\n",
      "P748881 -> \"T146343__sendKeys__input__L\"\n",
      "P898497\n",
      "P898497 -> \"T822663__closeBrowser\"\n"
     ]
    }
   ],
   "source": [
    "for place in new_net.place():\n",
    "    print(place)\n",
    "    print(list(place.output_arc())[0])"
   ]
  },
  {
   "cell_type": "code",
   "execution_count": 6,
   "metadata": {},
   "outputs": [
    {
     "name": "stdout",
     "output_type": "stream",
     "text": [
      "Length of visited place:  12\n",
      "Length of place:  12\n"
     ]
    }
   ],
   "source": [
    "visited_endnodes = []\n",
    "visited_arcs = []\n",
    "visited_places = []\n",
    "paths = []\n",
    "while True:\n",
    "    # TODO: Re-factor this code later.\n",
    "    while True:\n",
    "        random_path, visited_places = select_path(new_net, visited_places)\n",
    "        if random_path.places[-1] in visited_endnodes:\n",
    "            continue\n",
    "        else:\n",
    "            print(\"Length of visited place: \", len(set(visited_places)))\n",
    "            print(\"Length of place: \", len(new_net.place()))\n",
    "            visited_endnodes.append(random_path.places[-1])\n",
    "            paths.append(random_path)\n",
    "            break\n",
    "    if len(set(visited_places)) == len(new_net.place()):\n",
    "        break"
   ]
  },
  {
   "cell_type": "code",
   "execution_count": 15,
   "metadata": {},
   "outputs": [
    {
     "data": {
      "text/plain": [
       "dict_values([\"T156291__setText__input__L\" -> P208083, \"T156291__setText__input__L\" -> P878109])"
      ]
     },
     "execution_count": 15,
     "metadata": {},
     "output_type": "execute_result"
    }
   ],
   "source": [
    "paths[0].transitions[-3].output_arc()"
   ]
  },
  {
   "cell_type": "code",
   "execution_count": null,
   "metadata": {},
   "outputs": [],
   "source": [
    "temp: Place = list(new_net.place())[0]\n",
    "temp: ActionableTransition = list(temp.output_arc())[0].destination\n",
    "arc: Arc = list(temp.output_arc())[0]\n",
    "arc"
   ]
  },
  {
   "cell_type": "code",
   "execution_count": null,
   "metadata": {},
   "outputs": [],
   "source": [
    "test: Node = list(new_net.transition())[0]\n",
    "test.__dict__"
   ]
  },
  {
   "cell_type": "code",
   "execution_count": null,
   "metadata": {},
   "outputs": [],
   "source": [
    "type(list(test.output_arc())[0])"
   ]
  },
  {
   "cell_type": "code",
   "execution_count": null,
   "metadata": {},
   "outputs": [],
   "source": [
    "new_net.place()"
   ]
  },
  {
   "cell_type": "code",
   "execution_count": null,
   "metadata": {},
   "outputs": [],
   "source": [
    "load_net = PetriNet.load(\"petrinet.pkl\")\n",
    "print_graphviz(load_net)"
   ]
  },
  {
   "attachments": {},
   "cell_type": "markdown",
   "metadata": {},
   "source": [
    "##### Object repo"
   ]
  },
  {
   "cell_type": "code",
   "execution_count": null,
   "metadata": {},
   "outputs": [],
   "source": [
    "tran = list(net.net.transition())[0].step_info"
   ]
  },
  {
   "cell_type": "code",
   "execution_count": null,
   "metadata": {},
   "outputs": [],
   "source": [
    "tran.input[0].code"
   ]
  },
  {
   "cell_type": "code",
   "execution_count": null,
   "metadata": {},
   "outputs": [],
   "source": []
  },
  {
   "cell_type": "code",
   "execution_count": null,
   "metadata": {},
   "outputs": [],
   "source": [
    "parse_obj_repo_path(proj_path=proj, step_info=tran)"
   ]
  },
  {
   "cell_type": "code",
   "execution_count": null,
   "metadata": {},
   "outputs": [],
   "source": [
    "for tran in net.net.transition():\n",
    "    t = tran.step_info\n",
    "    temp = make_trans_from_step_info(parse_obj_repo_path(proj, t), t, {})\n",
    "    print(temp.data.get_attribute(\"selectors\")['xpath'])\n",
    "    print(\"=\"*12)"
   ]
  },
  {
   "cell_type": "code",
   "execution_count": null,
   "metadata": {},
   "outputs": [],
   "source": [
    "temp: Place = net.net.place()\n",
    "net.net.transition()[0].__dict__"
   ]
  },
  {
   "cell_type": "code",
   "execution_count": null,
   "metadata": {},
   "outputs": [],
   "source": [
    "temp: Place = list(new_net.node())[1]\n",
    "data: AnchorLinkElement = temp.data\n",
    "data.assign_uuid(1)\n",
    "data.__dict__"
   ]
  },
  {
   "cell_type": "code",
   "execution_count": null,
   "metadata": {},
   "outputs": [],
   "source": [
    "data.get_attribute(\"uuid\")"
   ]
  },
  {
   "cell_type": "code",
   "execution_count": null,
   "metadata": {},
   "outputs": [],
   "source": [
    "new_net.node()"
   ]
  },
  {
   "cell_type": "code",
   "execution_count": null,
   "metadata": {},
   "outputs": [],
   "source": [
    "list(temp.data.get_attribute(\"selectors\")['xpath'].values())[random.randint(0, 6-2)][0]"
   ]
  },
  {
   "cell_type": "code",
   "execution_count": null,
   "metadata": {},
   "outputs": [],
   "source": [
    "t:Node = list(load_net.node())[0]\n",
    "t.get_node_type()"
   ]
  },
  {
   "cell_type": "code",
   "execution_count": null,
   "metadata": {},
   "outputs": [],
   "source": []
  },
  {
   "cell_type": "code",
   "execution_count": null,
   "metadata": {},
   "outputs": [],
   "source": []
  },
  {
   "cell_type": "markdown",
   "metadata": {},
   "source": [
    "##### Automate the Groovy Parser"
   ]
  },
  {
   "cell_type": "code",
   "execution_count": null,
   "metadata": {},
   "outputs": [],
   "source": [
    "pnc.SCRIPT_INPUT_DIR = \"test_generator/GroovyParser/Data\"\n",
    "pnc.SCRIPT_OUTPUT_DIR = \"test_generator/GroovyParser/Output\"\n",
    "pnc.GROOVY_PARSER_DIR = \"test_generator/GroovyParser\"\n",
    "proj = \"/Users/luong.nguyen/Katalon Studio/My First Web UI Project\"\n",
    "pnc.call_groovy_parser(proj)"
   ]
  },
  {
   "cell_type": "markdown",
   "metadata": {},
   "source": [
    "### Setting up Selenium Chrome WebDriver"
   ]
  },
  {
   "cell_type": "code",
   "execution_count": null,
   "metadata": {},
   "outputs": [],
   "source": [
    "options = Options()\n",
    "options.add_argument('--headless')\n",
    "options.add_argument('--disable-gpu')  "
   ]
  },
  {
   "cell_type": "markdown",
   "metadata": {},
   "source": [
    "### Testing"
   ]
  },
  {
   "cell_type": "markdown",
   "metadata": {},
   "source": [
    "##### Merge and print petrinet to graphviz code"
   ]
  },
  {
   "cell_type": "code",
   "execution_count": null,
   "metadata": {},
   "outputs": [],
   "source": [
    "ptn1 = PetriNet.load(\"petrinet.pkl\")\n",
    "#print_graphviz(ptn1)\n",
    "ptn2 = PetriNet.load(\"running_logs_2/run-06.07.2022-16.41.24/petri-net.pkl\")\n",
    "#print_graphviz(ptn2)\n",
    "ptnMerged = PetriNet.merge(ptn1, ptn2)\n",
    "print_graphviz(ptnMerged)\n"
   ]
  },
  {
   "cell_type": "markdown",
   "metadata": {},
   "source": [
    "##### Relative XPath"
   ]
  },
  {
   "cell_type": "code",
   "execution_count": null,
   "metadata": {},
   "outputs": [],
   "source": [
    "# Test relative XPath\n",
    "driver = webdriver.Chrome(chrome_options=options)\n",
    "driver.get(\"http://j2store.net/demo/index.php/blog/70-picking-the-perfect-product\")\n",
    "try:\n",
    "    xpath = \"/html/body/div[2]/header/div/div/div[2]/div[2]/ul/li[3]/a\"\n",
    "    XPATH = XPath(xpath)\n",
    "    ele: WebElement = driver.find_element(By.XPATH, xpath)\n",
    "    rbl = RobulaPlus(ele, driver)\n",
    "    start_time = time.time()\n",
    "    relative_xpath = rbl.getRobustXPath()\n",
    "    end_time = time.time()\n",
    "    print(\"Time to generate relative XPaths:\", end_time - start_time, \"seconds\")\n",
    "    print(\"Relative XPath:\", relative_xpath)\n",
    "    ele2: WebElement = driver.find_element(By.XPATH, str(relative_xpath))\n",
    "    print(ele == ele2)\n",
    "except Exception as e:\n",
    "    print(e)\n",
    "driver.quit()"
   ]
  },
  {
   "cell_type": "markdown",
   "metadata": {},
   "source": [
    "##### Neighbor XPath"
   ]
  },
  {
   "cell_type": "code",
   "execution_count": null,
   "metadata": {},
   "outputs": [],
   "source": [
    "# Test neighbor XPath\n",
    "driver = webdriver.Chrome(chrome_options=options)\n",
    "driver.get(\"http://j2store.net/demo/index.php/blog/70-picking-the-perfect-product\")\n",
    "try:\n",
    "    xpath = \"/html/body/div[2]/header/div/div/div[2]/div[2]/ul/li[3]/a\"\n",
    "    XPATH = XPath(xpath)\n",
    "    ele: WebElement = driver.find_element(By.XPATH, xpath)\n",
    "    nbxGen = NeighborXPathGenerator(ele, driver)\n",
    "    start_time = time.time()\n",
    "    neighborXpaths = nbxGen.generate_neighbor_xpaths(3)\n",
    "    end_time = time.time()\n",
    "    print(\"Time to generate neighbor XPaths:\", end_time - start_time, \"seconds\")\n",
    "    print(\"---- The neighbor XPaths:\", *neighborXpaths, sep='\\n')\n",
    "    result = []\n",
    "    for generated_xpath in neighborXpaths:\n",
    "        ele2: WebElement = driver.find_element(By.XPATH, str(generated_xpath))\n",
    "        result.append(ele == ele2)\n",
    "    print(result)\n",
    "except Exception as e:\n",
    "    print(e)\n",
    "driver.quit()"
   ]
  },
  {
   "cell_type": "markdown",
   "metadata": {},
   "source": [
    "##### Absolute XPath"
   ]
  },
  {
   "cell_type": "code",
   "execution_count": null,
   "metadata": {},
   "outputs": [],
   "source": [
    "# Test absolute XPath\n",
    "driver = webdriver.Chrome(chrome_options=options)\n",
    "driver.get(\"http://j2store.net/demo/index.php/my-account\")\n",
    "try:\n",
    "    before: WebElement = driver.find_element(By.XPATH, \"/html/body/div[2]/div/div/div/div[2]/div/div/div/form/input[2]\")\n",
    "    #before = ele.get_attribute('innerHTML')\n",
    "    start_time = time.time()\n",
    "    xpath = get_absolute_xpath(before)\n",
    "    after: WebElement = driver.find_element(By.XPATH, xpath)\n",
    "    end_time = time.time()\n",
    "    #after = ele.get_attribute('innerHTML')\n",
    "    print(xpath)\n",
    "    print(before == after)\n",
    "    print(end_time - start_time, \"seconds\")\n",
    "except Exception as e:\n",
    "    print(e)\n",
    "driver.quit()"
   ]
  },
  {
   "cell_type": "markdown",
   "metadata": {},
   "source": [
    "##### Basic petrinet functionalities"
   ]
  },
  {
   "cell_type": "code",
   "execution_count": null,
   "metadata": {},
   "outputs": [],
   "source": [
    "# Test PetriNet 1\n",
    "nodeA = Place(\"A\")\n",
    "nodeB = Transition(\"B\", \"ele_1\")\n",
    "nodeA.add_output_node(nodeB)\n",
    "nodeB.add_input_node(nodeA)\n",
    "print(nodeA, nodeB)\n",
    "print(nodeA.output_arc())\n",
    "print(nodeA.output_arc(nodeB.name))\n",
    "print(nodeB.input_arc(nodeA.name))\n",
    "print(nodeB.output_arc())\n",
    "petrinet = PetriNet(nodeA, True)\n",
    "print(petrinet.place(petrinet.root.name).output_arc())\n",
    "nodeC = Place(\"C\")\n",
    "petrinet.add_node(nodeC)\n",
    "petrinet.add_arc(petrinet.node(\"B\"), petrinet.node(\"C\"))\n",
    "print(petrinet.node())\n",
    "print(petrinet.node(\"B\").output_arc())\n",
    "print(\"\\n=============================================\\n\")\n",
    "PetriNet.save(petrinet, \"petrinet.obj\")\n",
    "petrinet = PetriNet.load(\"petrinet.obj\")\n",
    "print(petrinet.node())\n",
    "print(petrinet.node(\"B\").output_arc())"
   ]
  },
  {
   "cell_type": "markdown",
   "metadata": {},
   "source": [
    "##### Use xmltodict to parse Katalon Studio Object Repository file"
   ]
  },
  {
   "cell_type": "code",
   "execution_count": null,
   "metadata": {},
   "outputs": [],
   "source": [
    "import xmltodict as x2d\n",
    "import json\n",
    "with open(os.path.join(proj, \"Object Repository/Page_Home/img_clothing.rs\"), \"rt\") as file:\n",
    "    doc = x2d.parse(file.read()) # return a dictionary\n",
    "print(json.dumps(doc,\n",
    "                sort_keys=True,\n",
    "                indent=4,\n",
    "                separators=(',', ': ')))\n",
    "doc = doc[\"WebElementEntity\"]\n",
    "print(doc[\"selectorCollection\"])"
   ]
  }
 ],
 "metadata": {
  "kernelspec": {
   "display_name": "Python 3.9.13 ('navgraph')",
   "language": "python",
   "name": "python3"
  },
  "language_info": {
   "codemirror_mode": {
    "name": "ipython",
    "version": 3
   },
   "file_extension": ".py",
   "mimetype": "text/x-python",
   "name": "python",
   "nbconvert_exporter": "python",
   "pygments_lexer": "ipython3",
   "version": "3.9.13"
  },
  "orig_nbformat": 4,
  "vscode": {
   "interpreter": {
    "hash": "2c98e4c2a602d79703178187ed564a35076b9249266e56c90fb4bc395d52eca9"
   }
  }
 },
 "nbformat": 4,
 "nbformat_minor": 2
}

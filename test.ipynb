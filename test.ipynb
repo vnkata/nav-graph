{
 "cells": [
  {
   "cell_type": "code",
   "execution_count": 7,
   "metadata": {},
   "outputs": [],
   "source": [
    "# from petrinet import add_class as he\n",
    "from petrinet import PetriNetConverter as pnc\n",
    "from petrinet.PetriNet import Place\n",
    "from petrinet.PetriNet import ActionableTransition, Place, PetriNet, Transition, Arc\n",
    "from repository.core import ObjectManager"
   ]
  },
  {
   "cell_type": "code",
   "execution_count": null,
   "metadata": {},
   "outputs": [],
   "source": [
    "# proj = \"C:/Users/kiet.ngo/Downloads/Projects/nav-graph/KatalonStudio_sample_project/J2Store\"\n",
    "proj = \"/Users/luong.nguyen/Katalon Studio/phpfusion\"\n",
    "\n",
    "testcases = pnc.fetch_script_paths(proj)"
   ]
  },
  {
   "cell_type": "code",
   "execution_count": null,
   "metadata": {},
   "outputs": [],
   "source": [
    "testcases"
   ]
  },
  {
   "cell_type": "code",
   "execution_count": null,
   "metadata": {},
   "outputs": [],
   "source": [
    "nets = []\n",
    "script_lists = []\n",
    "\n",
    "for case, script_list in testcases.items():\n",
    "    net, scripts = pnc.construct_code_based_petrinet_(proj, (case, script_list))\n",
    "    \n",
    "    nets.append(net)\n",
    "    script_lists.append(script_list)"
   ]
  },
  {
   "cell_type": "code",
   "execution_count": null,
   "metadata": {},
   "outputs": [],
   "source": [
    "new_nets = []\n",
    "\n",
    "for net, scripts in zip(nets, script_lists):\n",
    "    new_net = pnc.codeBased_to_actionBased(proj, net, scripts)\n",
    "    new_nets.append(new_net)"
   ]
  },
  {
   "cell_type": "code",
   "execution_count": null,
   "metadata": {},
   "outputs": [],
   "source": [
    "new_nets"
   ]
  },
  {
   "cell_type": "code",
   "execution_count": null,
   "metadata": {},
   "outputs": [],
   "source": [
    "root: Transition = new_nets[0].root[0]"
   ]
  },
  {
   "cell_type": "code",
   "execution_count": null,
   "metadata": {},
   "outputs": [],
   "source": [
    "arc = list(root.output_arc())[0]"
   ]
  },
  {
   "cell_type": "code",
   "execution_count": null,
   "metadata": {},
   "outputs": [],
   "source": [
    "arc"
   ]
  },
  {
   "cell_type": "code",
   "execution_count": null,
   "metadata": {},
   "outputs": [],
   "source": [
    "tran: ActionableTransition = arc.destination"
   ]
  },
  {
   "cell_type": "code",
   "execution_count": null,
   "metadata": {},
   "outputs": [],
   "source": [
    "tran.data.get_attribute('selectors')"
   ]
  },
  {
   "cell_type": "code",
   "execution_count": null,
   "metadata": {},
   "outputs": [],
   "source": [
    "from collections import defaultdict"
   ]
  },
  {
   "cell_type": "code",
   "execution_count": null,
   "metadata": {},
   "outputs": [],
   "source": [
    "temp = defaultdict(dict)"
   ]
  },
  {
   "cell_type": "code",
   "execution_count": null,
   "metadata": {},
   "outputs": [],
   "source": [
    "temp['hello']"
   ]
  },
  {
   "cell_type": "code",
   "execution_count": null,
   "metadata": {},
   "outputs": [],
   "source": [
    "tran.get_node_type()"
   ]
  },
  {
   "cell_type": "code",
   "execution_count": 5,
   "metadata": {},
   "outputs": [
    {
     "name": "stdout",
     "output_type": "stream",
     "text": [
      "setstate,  dict_keys(['title', 'url', 'screenshot', 'access_time', 'object_uuids', 'num_objects', 'actionable_elements'])\n",
      "setstate,  dict_keys(['title', 'url', 'screenshot', 'access_time', 'object_uuids', 'num_objects', 'actionable_elements'])\n",
      "setstate,  dict_keys(['title', 'url', 'screenshot', 'access_time', 'object_uuids', 'num_objects', 'actionable_elements'])\n",
      "setstate,  dict_keys(['title', 'url', 'screenshot', 'access_time', 'object_uuids', 'num_objects', 'actionable_elements'])\n",
      "setstate,  dict_keys(['title', 'url', 'screenshot', 'access_time', 'object_uuids', 'num_objects', 'actionable_elements'])\n"
     ]
    }
   ],
   "source": [
    "load_net = PetriNet.load(\"running_logs/run-06.01.2023-12.40.13/petri-net.pkl\")"
   ]
  },
  {
   "cell_type": "code",
   "execution_count": 6,
   "metadata": {},
   "outputs": [
    {
     "name": "stdout",
     "output_type": "stream",
     "text": [
      "63f10d01-a74f-43c4-8cb3-d4c1c957d09f\n"
     ]
    }
   ],
   "source": [
    "for tran in load_net.transition():\n",
    "    print(tran.data.get_attribute('uuid'))\n",
    "    # print(tran.data._all_attributes['screenshot'])\n",
    "    # print(type(tran))\n",
    "    break"
   ]
  },
  {
   "cell_type": "code",
   "execution_count": 8,
   "metadata": {},
   "outputs": [
    {
     "name": "stdout",
     "output_type": "stream",
     "text": [
      "#loaded objects (in repository):  47\n",
      "#visited_objects:  5\n"
     ]
    }
   ],
   "source": [
    "objManager = ObjectManager(working_dir=\"running_logs/run-06.01.2023-12.40.13\")"
   ]
  },
  {
   "cell_type": "code",
   "execution_count": 9,
   "metadata": {},
   "outputs": [
    {
     "data": {
      "text/plain": [
       "<element.Element.InputElement at 0x7f83619f5c10>"
      ]
     },
     "execution_count": 9,
     "metadata": {},
     "output_type": "execute_result"
    }
   ],
   "source": [
    "objManager.get_object(\"63f10d01-a74f-43c4-8cb3-d4c1c957d09f\")"
   ]
  },
  {
   "cell_type": "code",
   "execution_count": null,
   "metadata": {},
   "outputs": [],
   "source": [
    "error_place: Place = None\n",
    "\n",
    "for place in load_net.place():\n",
    "    try:\n",
    "        place.data.object_uuids\n",
    "    except:\n",
    "        print(place.name)\n",
    "        error_place = place\n",
    "        break"
   ]
  },
  {
   "cell_type": "code",
   "execution_count": null,
   "metadata": {},
   "outputs": [],
   "source": [
    "load_net.place()"
   ]
  },
  {
   "attachments": {},
   "cell_type": "markdown",
   "metadata": {},
   "source": [
    "# Test Selenium"
   ]
  },
  {
   "cell_type": "code",
   "execution_count": 10,
   "metadata": {},
   "outputs": [],
   "source": [
    "from selenium import webdriver\n",
    "from selenium.webdriver.chrome.options import Options\n",
    "from selenium.webdriver.common.by import By\n",
    "from selenium.webdriver.common.keys import Keys\n",
    "from selenium.webdriver.common.action_chains import ActionChains"
   ]
  },
  {
   "cell_type": "code",
   "execution_count": 2,
   "metadata": {},
   "outputs": [],
   "source": [
    "def get_driver():\n",
    "    options = Options()\n",
    "    # options.add_argument('--headless')\n",
    "    options.add_argument('--disable-gpu')\n",
    "    options.add_argument('--no-sandbox')\n",
    "    options.add_argument('--disable-dev-shm-usage')\n",
    "    return webdriver.Chrome(options=options)"
   ]
  },
  {
   "cell_type": "code",
   "execution_count": 3,
   "metadata": {},
   "outputs": [],
   "source": [
    "url = 'http://localhost/phpfusion/files/administration/file_manager.php?aid=92e0ea49f23f2a24'"
   ]
  },
  {
   "cell_type": "code",
   "execution_count": 4,
   "metadata": {},
   "outputs": [],
   "source": [
    "driver = get_driver()"
   ]
  },
  {
   "cell_type": "code",
   "execution_count": 5,
   "metadata": {},
   "outputs": [],
   "source": [
    "driver.get(url)"
   ]
  },
  {
   "cell_type": "code",
   "execution_count": 15,
   "metadata": {},
   "outputs": [],
   "source": [
    "xpath = '//*[@id=\"search_pages\"]'\n",
    "\n",
    "ele = driver.find_element(by=By.XPATH, value=xpath)"
   ]
  },
  {
   "cell_type": "code",
   "execution_count": 16,
   "metadata": {},
   "outputs": [],
   "source": [
    "actions = ActionChains(driver=driver)\n",
    "actions.click(ele)\n",
    "actions.send_keys(\"admin\")\n",
    "actions.send_keys(eval(\"Keys.ENTER\"))\n",
    "actions.perform()"
   ]
  },
  {
   "cell_type": "code",
   "execution_count": null,
   "metadata": {},
   "outputs": [],
   "source": [
    "xpath = \"//input[@id='filter-input']\"\n",
    "xpath = \"//div[3]/input[6]\"\n",
    "xpath = \"//input[@type = 'text' and @id = 'filter-input' and @name = 'filter' and @placeholder = 'text filter...']\""
   ]
  },
  {
   "cell_type": "code",
   "execution_count": null,
   "metadata": {},
   "outputs": [],
   "source": [
    "ele = driver.find_element(by=By.XPATH, value=xpath)"
   ]
  },
  {
   "attachments": {},
   "cell_type": "markdown",
   "metadata": {},
   "source": [
    "# Test Regex"
   ]
  },
  {
   "cell_type": "code",
   "execution_count": 1,
   "metadata": {},
   "outputs": [],
   "source": [
    "import re"
   ]
  },
  {
   "cell_type": "code",
   "execution_count": 3,
   "metadata": {},
   "outputs": [
    {
     "data": {
      "text/plain": [
       "'Keys.ENTER'"
      ]
     },
     "execution_count": 3,
     "metadata": {},
     "output_type": "execute_result"
    }
   ],
   "source": [
    "re.findall(pattern=\"\\((Keys.+)\\)\", string=\"Keys.chord(Keys.ENTER)\")[0]"
   ]
  },
  {
   "cell_type": "code",
   "execution_count": null,
   "metadata": {},
   "outputs": [],
   "source": []
  },
  {
   "cell_type": "code",
   "execution_count": null,
   "metadata": {},
   "outputs": [],
   "source": []
  },
  {
   "cell_type": "code",
   "execution_count": null,
   "metadata": {},
   "outputs": [],
   "source": []
  }
 ],
 "metadata": {
  "kernelspec": {
   "display_name": "navgraph",
   "language": "python",
   "name": "python3"
  },
  "language_info": {
   "codemirror_mode": {
    "name": "ipython",
    "version": 3
   },
   "file_extension": ".py",
   "mimetype": "text/x-python",
   "name": "python",
   "nbconvert_exporter": "python",
   "pygments_lexer": "ipython3",
   "version": "3.9.13"
  },
  "orig_nbformat": 4,
  "vscode": {
   "interpreter": {
    "hash": "2c98e4c2a602d79703178187ed564a35076b9249266e56c90fb4bc395d52eca9"
   }
  }
 },
 "nbformat": 4,
 "nbformat_minor": 2
}
